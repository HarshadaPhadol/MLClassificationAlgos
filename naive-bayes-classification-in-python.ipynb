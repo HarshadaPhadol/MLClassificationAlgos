{
 "cells": [
  {
   "cell_type": "code",
   "execution_count": 1,
   "metadata": {
    "_cell_guid": "b1076dfc-b9ad-4769-8c92-a6c4dae69d19",
    "_uuid": "8f2839f25d086af736a60e9eeb907d3b93b6e0e5"
   },
   "outputs": [],
   "source": [
    "#Import the necessary libraries.\n",
    "import numpy as np\n",
    "import pandas as pd\n",
    "from sklearn import metrics , model_selection\n",
    "import matplotlib.pyplot as plt\n",
    "from sklearn import metrics , model_selection\n",
    "## Import the Classifier.\n",
    "from sklearn.naive_bayes import GaussianNB\n",
    "from mlxtend.plotting import plot_confusion_matrix\n",
    "from sklearn.metrics import confusion_matrix\n",
    "import warnings\n",
    "warnings.filterwarnings('ignore')"
   ]
  },
  {
   "cell_type": "code",
   "execution_count": 2,
   "metadata": {
    "_cell_guid": "79c7e3d0-c299-4dcb-8224-4455121ee9b0",
    "_uuid": "d629ff2d2480ee46fbb7e2d37f6b5fab8052498a"
   },
   "outputs": [
    {
     "data": {
      "text/html": [
       "<div>\n",
       "<style scoped>\n",
       "    .dataframe tbody tr th:only-of-type {\n",
       "        vertical-align: middle;\n",
       "    }\n",
       "\n",
       "    .dataframe tbody tr th {\n",
       "        vertical-align: top;\n",
       "    }\n",
       "\n",
       "    .dataframe thead th {\n",
       "        text-align: right;\n",
       "    }\n",
       "</style>\n",
       "<table border=\"1\" class=\"dataframe\">\n",
       "  <thead>\n",
       "    <tr style=\"text-align: right;\">\n",
       "      <th></th>\n",
       "      <th>buying</th>\n",
       "      <th>maint</th>\n",
       "      <th>doors</th>\n",
       "      <th>persons</th>\n",
       "      <th>lug_boot</th>\n",
       "      <th>safety</th>\n",
       "      <th>class</th>\n",
       "    </tr>\n",
       "  </thead>\n",
       "  <tbody>\n",
       "    <tr>\n",
       "      <th>0</th>\n",
       "      <td>vhigh</td>\n",
       "      <td>vhigh</td>\n",
       "      <td>2</td>\n",
       "      <td>2</td>\n",
       "      <td>small</td>\n",
       "      <td>low</td>\n",
       "      <td>unacc</td>\n",
       "    </tr>\n",
       "    <tr>\n",
       "      <th>1</th>\n",
       "      <td>vhigh</td>\n",
       "      <td>vhigh</td>\n",
       "      <td>2</td>\n",
       "      <td>2</td>\n",
       "      <td>small</td>\n",
       "      <td>med</td>\n",
       "      <td>unacc</td>\n",
       "    </tr>\n",
       "    <tr>\n",
       "      <th>2</th>\n",
       "      <td>vhigh</td>\n",
       "      <td>vhigh</td>\n",
       "      <td>2</td>\n",
       "      <td>2</td>\n",
       "      <td>small</td>\n",
       "      <td>high</td>\n",
       "      <td>unacc</td>\n",
       "    </tr>\n",
       "    <tr>\n",
       "      <th>3</th>\n",
       "      <td>vhigh</td>\n",
       "      <td>vhigh</td>\n",
       "      <td>2</td>\n",
       "      <td>2</td>\n",
       "      <td>med</td>\n",
       "      <td>low</td>\n",
       "      <td>unacc</td>\n",
       "    </tr>\n",
       "    <tr>\n",
       "      <th>4</th>\n",
       "      <td>vhigh</td>\n",
       "      <td>vhigh</td>\n",
       "      <td>2</td>\n",
       "      <td>2</td>\n",
       "      <td>med</td>\n",
       "      <td>med</td>\n",
       "      <td>unacc</td>\n",
       "    </tr>\n",
       "  </tbody>\n",
       "</table>\n",
       "</div>"
      ],
      "text/plain": [
       "  buying  maint doors persons lug_boot safety  class\n",
       "0  vhigh  vhigh     2       2    small    low  unacc\n",
       "1  vhigh  vhigh     2       2    small    med  unacc\n",
       "2  vhigh  vhigh     2       2    small   high  unacc\n",
       "3  vhigh  vhigh     2       2      med    low  unacc\n",
       "4  vhigh  vhigh     2       2      med    med  unacc"
      ]
     },
     "execution_count": 2,
     "metadata": {},
     "output_type": "execute_result"
    }
   ],
   "source": [
    "cars_data = pd.read_csv(\"../input/car-evaluation-datacset/car.csv\")\n",
    "cars_data=cars_data[[\n",
    "    \"buying\",\n",
    "    \"maint\",\n",
    "    \"doors\",\n",
    "    \"persons\",\n",
    "    \"lug_boot\",\n",
    "    \"safety\",\n",
    "    \"class\"\n",
    "]].dropna(axis=0, how='any')\n",
    "cars_data.head()"
   ]
  },
  {
   "cell_type": "code",
   "execution_count": 3,
   "metadata": {},
   "outputs": [
    {
     "data": {
      "text/html": [
       "<div>\n",
       "<style scoped>\n",
       "    .dataframe tbody tr th:only-of-type {\n",
       "        vertical-align: middle;\n",
       "    }\n",
       "\n",
       "    .dataframe tbody tr th {\n",
       "        vertical-align: top;\n",
       "    }\n",
       "\n",
       "    .dataframe thead th {\n",
       "        text-align: right;\n",
       "    }\n",
       "</style>\n",
       "<table border=\"1\" class=\"dataframe\">\n",
       "  <thead>\n",
       "    <tr style=\"text-align: right;\">\n",
       "      <th></th>\n",
       "      <th>buying</th>\n",
       "      <th>maint</th>\n",
       "      <th>doors</th>\n",
       "      <th>persons</th>\n",
       "      <th>lug_boot</th>\n",
       "      <th>safety</th>\n",
       "      <th>class</th>\n",
       "    </tr>\n",
       "  </thead>\n",
       "  <tbody>\n",
       "    <tr>\n",
       "      <th>0</th>\n",
       "      <td>0</td>\n",
       "      <td>0</td>\n",
       "      <td>0</td>\n",
       "      <td>0</td>\n",
       "      <td>0</td>\n",
       "      <td>0</td>\n",
       "      <td>0</td>\n",
       "    </tr>\n",
       "    <tr>\n",
       "      <th>1</th>\n",
       "      <td>0</td>\n",
       "      <td>0</td>\n",
       "      <td>0</td>\n",
       "      <td>0</td>\n",
       "      <td>0</td>\n",
       "      <td>1</td>\n",
       "      <td>0</td>\n",
       "    </tr>\n",
       "    <tr>\n",
       "      <th>2</th>\n",
       "      <td>0</td>\n",
       "      <td>0</td>\n",
       "      <td>0</td>\n",
       "      <td>0</td>\n",
       "      <td>0</td>\n",
       "      <td>2</td>\n",
       "      <td>0</td>\n",
       "    </tr>\n",
       "    <tr>\n",
       "      <th>3</th>\n",
       "      <td>0</td>\n",
       "      <td>0</td>\n",
       "      <td>0</td>\n",
       "      <td>0</td>\n",
       "      <td>1</td>\n",
       "      <td>0</td>\n",
       "      <td>0</td>\n",
       "    </tr>\n",
       "    <tr>\n",
       "      <th>4</th>\n",
       "      <td>0</td>\n",
       "      <td>0</td>\n",
       "      <td>0</td>\n",
       "      <td>0</td>\n",
       "      <td>1</td>\n",
       "      <td>1</td>\n",
       "      <td>0</td>\n",
       "    </tr>\n",
       "  </tbody>\n",
       "</table>\n",
       "</div>"
      ],
      "text/plain": [
       "   buying  maint  doors  persons  lug_boot  safety  class\n",
       "0       0      0      0        0         0       0      0\n",
       "1       0      0      0        0         0       1      0\n",
       "2       0      0      0        0         0       2      0\n",
       "3       0      0      0        0         1       0      0\n",
       "4       0      0      0        0         1       1      0"
      ]
     },
     "execution_count": 3,
     "metadata": {},
     "output_type": "execute_result"
    }
   ],
   "source": [
    "#The target variable is marked as class in the dataframe. \n",
    "#The values are present in string format.We can convert the string nominal values into numerics values using factorize method of the pandas library.\n",
    "\n",
    "cars_data['class'],class_names = pd.factorize(cars_data['class'])\n",
    "cars_data['buying'],_ = pd.factorize(cars_data['buying'])\n",
    "cars_data['maint'],_ = pd.factorize(cars_data['maint'])\n",
    "cars_data['doors'],_ = pd.factorize(cars_data['doors'])\n",
    "cars_data['persons'],_ = pd.factorize(cars_data['persons'])\n",
    "cars_data['lug_boot'],_ = pd.factorize(cars_data['lug_boot'])\n",
    "cars_data['safety'],_ = pd.factorize(cars_data['safety'])\n",
    "cars_data.head()\n",
    "#print(class_names)\n",
    "#print(cars_data['class'].unique())"
   ]
  },
  {
   "cell_type": "code",
   "execution_count": 4,
   "metadata": {},
   "outputs": [],
   "source": [
    "#Select the feature and target variable\n",
    "#X = cars_data.iloc[:,:-1]\n",
    "#y = cars_data.iloc[:,-1]\n",
    "\n",
    "X = cars_data[cars_data.columns[: -1]]\n",
    "y = cars_data['class']\n",
    "\n",
    "\n",
    "#To split data (e.g. test=200)\n",
    "#X_train200, X_test200, y_train200, y_test200 = model_selection.train_test_split(X, y, test_size=0.12)\n",
    "\n",
    "#To split data in order (e.g. First 1589 records Train= 1589 Test=139)\n",
    "train_pct_index = int(0.92 * len(X))\n",
    "X_train, X_test200 = X[:train_pct_index], X[train_pct_index:]\n",
    "y_train, y_test200 = y[:train_pct_index], y[train_pct_index:]\n",
    "\n",
    "#To split data in order (e.g. First 1261 records)\n",
    "#train_pct_index = int(0.73 * len(X))\n",
    "#X_train, X_test = X[:train_pct_index], X[train_pct_index:]\n",
    "#y_train, y_test = y[:train_pct_index], y[train_pct_index:]\n",
    "\n",
    "#To split data in order (e.g. First 760 records)\n",
    "#train_pct_index = int(0.44 * len(X))\n",
    "#X_train, X_test = X[:train_pct_index], X[train_pct_index:]\n",
    "#y_train, y_test = y[:train_pct_index], y[train_pct_index:]\n",
    "\n",
    "#To split data in order (e.g. First 501 records)\n",
    "#train_pct_index = int(0.29 * len(X))\n",
    "#X_train, X_test = X[:train_pct_index], X[train_pct_index:]\n",
    "#y_train, y_test = y[:train_pct_index], y[train_pct_index:]\n",
    "\n"
   ]
  },
  {
   "cell_type": "code",
   "execution_count": 5,
   "metadata": {},
   "outputs": [
    {
     "data": {
      "text/plain": [
       "GaussianNB(priors=None, var_smoothing=1e-09)"
      ]
     },
     "execution_count": 5,
     "metadata": {},
     "output_type": "execute_result"
    }
   ],
   "source": [
    "#Training / model fitting\n",
    "model = GaussianNB()\n",
    "## Fit the model on the training data.\n",
    "model.fit(X_train, y_train)"
   ]
  },
  {
   "cell_type": "code",
   "execution_count": 6,
   "metadata": {},
   "outputs": [
    {
     "name": "stdout",
     "output_type": "stream",
     "text": [
      "Accuracy: 0.6402877697841727\n",
      "Misclassified samples: 50\n"
     ]
    }
   ],
   "source": [
    "# use the model to make predictions with the test data\n",
    "y_pred = model.predict(X_test200)\n",
    "print(\"Accuracy:\",metrics.accuracy_score(y_test200, y_pred))\n",
    "count_misclassified = (y_test200 != y_pred).sum()\n",
    "print('Misclassified samples: {}'.format(count_misclassified))"
   ]
  },
  {
   "cell_type": "code",
   "execution_count": 7,
   "metadata": {},
   "outputs": [
    {
     "name": "stdout",
     "output_type": "stream",
     "text": [
      "              precision    recall  f1-score   support\n",
      "\n",
      "           0       0.87      0.78      0.82        78\n",
      "           1       0.14      0.08      0.11        12\n",
      "           2       0.40      1.00      0.58        19\n",
      "           3       0.53      0.27      0.36        30\n",
      "\n",
      "    accuracy                           0.64       139\n",
      "   macro avg       0.49      0.53      0.47       139\n",
      "weighted avg       0.67      0.64      0.63       139\n",
      "\n",
      "       unacc  acc  vgood  good\n",
      "unacc     61    0     16     1\n",
      "acc        5    1      0     6\n",
      "vgood      0    0     19     0\n",
      "good       4    6     12     8\n"
     ]
    }
   ],
   "source": [
    "print(metrics.classification_report(y_test200, y_pred))\n",
    "confusion_mc = pd.DataFrame(\n",
    "    confusion_matrix(y_test200, y_pred),\n",
    "    columns=['unacc', 'acc', 'vgood',  'good'],\n",
    "    index=['unacc', 'acc', 'vgood',  'good']\n",
    ")\n",
    "print(confusion_mc)"
   ]
  },
  {
   "cell_type": "code",
   "execution_count": 8,
   "metadata": {},
   "outputs": [],
   "source": [
    "# To avoid Zero Devision Warning\n",
    "#from sklearn.metrics import f1_score\n",
    "#metrics.f1_score(y_test, y_pred,average='weighted', labels=np.unique(y_pred))"
   ]
  },
  {
   "cell_type": "code",
   "execution_count": 9,
   "metadata": {},
   "outputs": [
    {
     "data": {
      "image/png": "[encoded data removed]",
      "text/plain": [
       "<Figure size 432x288 with 2 Axes>"
      ]
     },
     "metadata": {
      "needs_background": "light"
     },
     "output_type": "display_data"
    },
    {
     "data": {
      "text/plain": [
       "<Figure size 720x576 with 0 Axes>"
      ]
     },
     "metadata": {},
     "output_type": "display_data"
    }
   ],
   "source": [
    "#class_names = ['unacc', 'acc', 'vgood',  'good']\n",
    "confusion_mc = confusion_matrix(y_test200, y_pred)\n",
    "\n",
    "fig, ax = plot_confusion_matrix(conf_mat=confusion_mc,\n",
    "                                colorbar=True,\n",
    "                                show_absolute=False,\n",
    "                                show_normed=True)\n",
    "plt.title('Naive Bayes \\nAccuracy:{0:.3f}'.format(metrics.accuracy_score(y_test200, y_pred)))\n",
    "plt.figure(figsize=(10,8))\n",
    "plt.show()"
   ]
  },
  {
   "cell_type": "code",
   "execution_count": 10,
   "metadata": {},
   "outputs": [
    {
     "name": "stdout",
     "output_type": "stream",
     "text": [
      "Per Class Classification Matrix: [0.78205128 0.08333333 1.         0.26666667]\n"
     ]
    }
   ],
   "source": [
    "confusion_mc = confusion_mc.astype('float') / confusion_mc.sum(axis=1)[:, np.newaxis]\n",
    "print(\"Per Class Classification Matrix:\",confusion_mc.diagonal())"
   ]
  },
  {
   "cell_type": "code",
   "execution_count": 11,
   "metadata": {},
   "outputs": [
    {
     "data": {
      "image/png": "[encoded data removed]",
      "text/plain": [
       "<Figure size 432x288 with 1 Axes>"
      ]
     },
     "metadata": {
      "needs_background": "light"
     },
     "output_type": "display_data"
    }
   ],
   "source": [
    "plt.bar(range(4),confusion_mc.diagonal(),color = 'black', align = 'center')\n",
    "plt.title(\"Per Class Classification \") \n",
    "plt.style.use('ggplot')\n",
    "plt.show()"
   ]
  }
 ],
 "metadata": {
  "kernelspec": {
   "display_name": "Python 3",
   "language": "python",
   "name": "python3"
  },
  "language_info": {
   "codemirror_mode": {
    "name": "ipython",
    "version": 3
   },
   "file_extension": ".py",
   "mimetype": "text/x-python",
   "name": "python",
   "nbconvert_exporter": "python",
   "pygments_lexer": "ipython3",
   "version": "3.6.6"
  }
 },
 "nbformat": 4,
 "nbformat_minor": 4
}
